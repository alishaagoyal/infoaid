{
  "metadata": {
    "kernelspec": {
      "language": "python",
      "display_name": "Python 3",
      "name": "python3"
    },
    "language_info": {
      "name": "python",
      "version": "3.6.6",
      "mimetype": "text/x-python",
      "codemirror_mode": {
        "name": "ipython",
        "version": 3
      },
      "pygments_lexer": "ipython3",
      "nbconvert_exporter": "python",
      "file_extension": ".py"
    },
    "colab": {
      "provenance": []
    }
  },
  "nbformat_minor": 0,
  "nbformat": 4,
  "cells": [
    {
      "cell_type": "markdown",
      "source": [
        "##Credit card transaction fraud detection - InfoAid Tech\n",
        "###Task3"
      ],
      "metadata": {
        "id": "6OhNyyD646Ay"
      }
    },
    {
      "cell_type": "markdown",
      "source": [
        "### Basic Libraries import"
      ],
      "metadata": {
        "_uuid": "d629ff2d2480ee46fbb7e2d37f6b5fab8052498a",
        "_cell_guid": "79c7e3d0-c299-4dcb-8224-4455121ee9b0",
        "id": "cRmEUuVw46Be"
      }
    },
    {
      "cell_type": "code",
      "source": [
        "import pandas as pd\n",
        "import matplotlib.pyplot as plt\n",
        "import seaborn as sns\n",
        "import math\n",
        "import sklearn\n",
        "import numpy as np\n",
        "\n",
        "import warnings\n",
        "warnings.filterwarnings('ignore')\n",
        "\n",
        "%matplotlib inline"
      ],
      "metadata": {
        "execution": {
          "iopub.status.busy": "2023-07-11T14:27:33.959434Z",
          "iopub.execute_input": "2023-07-11T14:27:33.959818Z",
          "iopub.status.idle": "2023-07-11T14:27:35.725555Z",
          "shell.execute_reply.started": "2023-07-11T14:27:33.959767Z",
          "shell.execute_reply": "2023-07-11T14:27:35.724703Z"
        },
        "trusted": true,
        "id": "eoUWtH5646Bi"
      },
      "execution_count": null,
      "outputs": []
    },
    {
      "cell_type": "markdown",
      "source": [
        "### Reading the dataset"
      ],
      "metadata": {
        "id": "YZOG29yi46B1"
      }
    },
    {
      "cell_type": "code",
      "source": [
        "df = pd.read_csv(\"creditcard.csv\")"
      ],
      "metadata": {
        "_cell_guid": "",
        "_uuid": "",
        "execution": {
          "iopub.status.busy": "2023-07-11T14:27:35.730999Z",
          "iopub.execute_input": "2023-07-11T14:27:35.733076Z",
          "iopub.status.idle": "2023-07-11T14:27:40.798932Z",
          "shell.execute_reply.started": "2023-07-11T14:27:35.733016Z",
          "shell.execute_reply": "2023-07-11T14:27:40.798086Z"
        },
        "trusted": true,
        "id": "L99EpMIf46B6"
      },
      "execution_count": null,
      "outputs": []
    },
    {
      "cell_type": "markdown",
      "source": [
        "### Number of rows and columns"
      ],
      "metadata": {
        "id": "Pzz0h4TK46CC"
      }
    },
    {
      "cell_type": "code",
      "source": [
        "print('Total Rows and Columns: \\n\\n' , df.shape,'\\n')"
      ],
      "metadata": {
        "execution": {
          "iopub.status.busy": "2023-07-11T14:27:40.803941Z",
          "iopub.execute_input": "2023-07-11T14:27:40.806050Z",
          "iopub.status.idle": "2023-07-11T14:27:40.815573Z",
          "shell.execute_reply.started": "2023-07-11T14:27:40.805988Z",
          "shell.execute_reply": "2023-07-11T14:27:40.814758Z"
        },
        "trusted": true,
        "colab": {
          "base_uri": "https://localhost:8080/"
        },
        "id": "bgqO26ta46CI",
        "outputId": "729dc1a5-9227-4ada-b997-98f0979cc126"
      },
      "execution_count": null,
      "outputs": [
        {
          "output_type": "stream",
          "name": "stdout",
          "text": [
            "Total Rows and Columns: \n",
            "\n",
            " (284807, 31) \n",
            "\n"
          ]
        }
      ]
    },
    {
      "cell_type": "markdown",
      "source": [
        "### Verification of the existence of null or missing values"
      ],
      "metadata": {
        "id": "6E2F-T7a46CZ"
      }
    },
    {
      "cell_type": "code",
      "source": [
        "df.isnull().sum()"
      ],
      "metadata": {
        "execution": {
          "iopub.status.busy": "2023-07-11T14:27:40.820260Z",
          "iopub.execute_input": "2023-07-11T14:27:40.822469Z",
          "iopub.status.idle": "2023-07-11T14:27:40.880002Z",
          "shell.execute_reply.started": "2023-07-11T14:27:40.822394Z",
          "shell.execute_reply": "2023-07-11T14:27:40.879212Z"
        },
        "trusted": true,
        "colab": {
          "base_uri": "https://localhost:8080/"
        },
        "id": "8brvyy7b46Ca",
        "outputId": "5fac413d-bdb7-4b89-bf48-4df87363a611"
      },
      "execution_count": null,
      "outputs": [
        {
          "output_type": "execute_result",
          "data": {
            "text/plain": [
              "Time      0\n",
              "V1        0\n",
              "V2        0\n",
              "V3        0\n",
              "V4        0\n",
              "V5        0\n",
              "V6        0\n",
              "V7        0\n",
              "V8        0\n",
              "V9        0\n",
              "V10       0\n",
              "V11       0\n",
              "V12       0\n",
              "V13       0\n",
              "V14       0\n",
              "V15       0\n",
              "V16       0\n",
              "V17       0\n",
              "V18       0\n",
              "V19       0\n",
              "V20       0\n",
              "V21       0\n",
              "V22       0\n",
              "V23       0\n",
              "V24       0\n",
              "V25       0\n",
              "V26       0\n",
              "V27       0\n",
              "V28       0\n",
              "Amount    0\n",
              "Class     0\n",
              "dtype: int64"
            ]
          },
          "metadata": {},
          "execution_count": 61
        }
      ]
    },
    {
      "cell_type": "markdown",
      "source": [
        "### Variable type in each column"
      ],
      "metadata": {
        "id": "pNJuJNzB46Ch"
      }
    },
    {
      "cell_type": "code",
      "source": [
        "df.info()"
      ],
      "metadata": {
        "execution": {
          "iopub.status.busy": "2023-07-11T14:27:40.885752Z",
          "iopub.execute_input": "2023-07-11T14:27:40.887919Z",
          "iopub.status.idle": "2023-07-11T14:27:40.941754Z",
          "shell.execute_reply.started": "2023-07-11T14:27:40.887857Z",
          "shell.execute_reply": "2023-07-11T14:27:40.940928Z"
        },
        "trusted": true,
        "colab": {
          "base_uri": "https://localhost:8080/"
        },
        "id": "m5jOYcNU46Ck",
        "outputId": "5f713329-0ead-40ba-cb01-0ede10fe3985"
      },
      "execution_count": null,
      "outputs": [
        {
          "output_type": "stream",
          "name": "stdout",
          "text": [
            "<class 'pandas.core.frame.DataFrame'>\n",
            "RangeIndex: 284807 entries, 0 to 284806\n",
            "Data columns (total 31 columns):\n",
            " #   Column  Non-Null Count   Dtype  \n",
            "---  ------  --------------   -----  \n",
            " 0   Time    284807 non-null  float64\n",
            " 1   V1      284807 non-null  float64\n",
            " 2   V2      284807 non-null  float64\n",
            " 3   V3      284807 non-null  float64\n",
            " 4   V4      284807 non-null  float64\n",
            " 5   V5      284807 non-null  float64\n",
            " 6   V6      284807 non-null  float64\n",
            " 7   V7      284807 non-null  float64\n",
            " 8   V8      284807 non-null  float64\n",
            " 9   V9      284807 non-null  float64\n",
            " 10  V10     284807 non-null  float64\n",
            " 11  V11     284807 non-null  float64\n",
            " 12  V12     284807 non-null  float64\n",
            " 13  V13     284807 non-null  float64\n",
            " 14  V14     284807 non-null  float64\n",
            " 15  V15     284807 non-null  float64\n",
            " 16  V16     284807 non-null  float64\n",
            " 17  V17     284807 non-null  float64\n",
            " 18  V18     284807 non-null  float64\n",
            " 19  V19     284807 non-null  float64\n",
            " 20  V20     284807 non-null  float64\n",
            " 21  V21     284807 non-null  float64\n",
            " 22  V22     284807 non-null  float64\n",
            " 23  V23     284807 non-null  float64\n",
            " 24  V24     284807 non-null  float64\n",
            " 25  V25     284807 non-null  float64\n",
            " 26  V26     284807 non-null  float64\n",
            " 27  V27     284807 non-null  float64\n",
            " 28  V28     284807 non-null  float64\n",
            " 29  Amount  284807 non-null  float64\n",
            " 30  Class   284807 non-null  int64  \n",
            "dtypes: float64(30), int64(1)\n",
            "memory usage: 67.4 MB\n"
          ]
        }
      ]
    },
    {
      "cell_type": "markdown",
      "source": [
        "### Statistical information about the variables"
      ],
      "metadata": {
        "id": "kOqF4EHq46Cy"
      }
    },
    {
      "cell_type": "code",
      "source": [
        "df.describe().round()"
      ],
      "metadata": {
        "execution": {
          "iopub.status.busy": "2023-07-11T14:27:40.947298Z",
          "iopub.execute_input": "2023-07-11T14:27:40.949479Z",
          "iopub.status.idle": "2023-07-11T14:27:41.519387Z",
          "shell.execute_reply.started": "2023-07-11T14:27:40.949411Z",
          "shell.execute_reply": "2023-07-11T14:27:41.518616Z"
        },
        "trusted": true,
        "colab": {
          "base_uri": "https://localhost:8080/",
          "height": 394
        },
        "id": "U1rp3fiP46Cz",
        "outputId": "d02bffbc-de0d-45f8-cd21-824c10c847f4"
      },
      "execution_count": null,
      "outputs": [
        {
          "output_type": "execute_result",
          "data": {
            "text/plain": [
              "           Time        V1        V2        V3        V4        V5        V6  \\\n",
              "count  284807.0  284807.0  284807.0  284807.0  284807.0  284807.0  284807.0   \n",
              "mean    94814.0       0.0       0.0      -0.0       0.0       0.0       0.0   \n",
              "std     47488.0       2.0       2.0       2.0       1.0       1.0       1.0   \n",
              "min         0.0     -56.0     -73.0     -48.0      -6.0    -114.0     -26.0   \n",
              "25%     54202.0      -1.0      -1.0      -1.0      -1.0      -1.0      -1.0   \n",
              "50%     84692.0       0.0       0.0       0.0      -0.0      -0.0      -0.0   \n",
              "75%    139320.0       1.0       1.0       1.0       1.0       1.0       0.0   \n",
              "max    172792.0       2.0      22.0       9.0      17.0      35.0      73.0   \n",
              "\n",
              "             V7        V8        V9  ...       V21       V22       V23  \\\n",
              "count  284807.0  284807.0  284807.0  ...  284807.0  284807.0  284807.0   \n",
              "mean       -0.0       0.0      -0.0  ...       0.0      -0.0       0.0   \n",
              "std         1.0       1.0       1.0  ...       1.0       1.0       1.0   \n",
              "min       -44.0     -73.0     -13.0  ...     -35.0     -11.0     -45.0   \n",
              "25%        -1.0      -0.0      -1.0  ...      -0.0      -1.0      -0.0   \n",
              "50%         0.0       0.0      -0.0  ...      -0.0       0.0      -0.0   \n",
              "75%         1.0       0.0       1.0  ...       0.0       1.0       0.0   \n",
              "max       121.0      20.0      16.0  ...      27.0      11.0      23.0   \n",
              "\n",
              "            V24       V25       V26       V27       V28    Amount     Class  \n",
              "count  284807.0  284807.0  284807.0  284807.0  284807.0  284807.0  284807.0  \n",
              "mean        0.0       0.0       0.0      -0.0      -0.0      88.0       0.0  \n",
              "std         1.0       1.0       0.0       0.0       0.0     250.0       0.0  \n",
              "min        -3.0     -10.0      -3.0     -23.0     -15.0       0.0       0.0  \n",
              "25%        -0.0      -0.0      -0.0      -0.0      -0.0       6.0       0.0  \n",
              "50%         0.0       0.0      -0.0       0.0       0.0      22.0       0.0  \n",
              "75%         0.0       0.0       0.0       0.0       0.0      77.0       0.0  \n",
              "max         5.0       8.0       4.0      32.0      34.0   25691.0       1.0  \n",
              "\n",
              "[8 rows x 31 columns]"
            ],
            "text/html": [
              "\n",
              "\n",
              "  <div id=\"df-136f86f6-475a-4c38-9f39-5f6c40e39509\">\n",
              "    <div class=\"colab-df-container\">\n",
              "      <div>\n",
              "<style scoped>\n",
              "    .dataframe tbody tr th:only-of-type {\n",
              "        vertical-align: middle;\n",
              "    }\n",
              "\n",
              "    .dataframe tbody tr th {\n",
              "        vertical-align: top;\n",
              "    }\n",
              "\n",
              "    .dataframe thead th {\n",
              "        text-align: right;\n",
              "    }\n",
              "</style>\n",
              "<table border=\"1\" class=\"dataframe\">\n",
              "  <thead>\n",
              "    <tr style=\"text-align: right;\">\n",
              "      <th></th>\n",
              "      <th>Time</th>\n",
              "      <th>V1</th>\n",
              "      <th>V2</th>\n",
              "      <th>V3</th>\n",
              "      <th>V4</th>\n",
              "      <th>V5</th>\n",
              "      <th>V6</th>\n",
              "      <th>V7</th>\n",
              "      <th>V8</th>\n",
              "      <th>V9</th>\n",
              "      <th>...</th>\n",
              "      <th>V21</th>\n",
              "      <th>V22</th>\n",
              "      <th>V23</th>\n",
              "      <th>V24</th>\n",
              "      <th>V25</th>\n",
              "      <th>V26</th>\n",
              "      <th>V27</th>\n",
              "      <th>V28</th>\n",
              "      <th>Amount</th>\n",
              "      <th>Class</th>\n",
              "    </tr>\n",
              "  </thead>\n",
              "  <tbody>\n",
              "    <tr>\n",
              "      <th>count</th>\n",
              "      <td>284807.0</td>\n",
              "      <td>284807.0</td>\n",
              "      <td>284807.0</td>\n",
              "      <td>284807.0</td>\n",
              "      <td>284807.0</td>\n",
              "      <td>284807.0</td>\n",
              "      <td>284807.0</td>\n",
              "      <td>284807.0</td>\n",
              "      <td>284807.0</td>\n",
              "      <td>284807.0</td>\n",
              "      <td>...</td>\n",
              "      <td>284807.0</td>\n",
              "      <td>284807.0</td>\n",
              "      <td>284807.0</td>\n",
              "      <td>284807.0</td>\n",
              "      <td>284807.0</td>\n",
              "      <td>284807.0</td>\n",
              "      <td>284807.0</td>\n",
              "      <td>284807.0</td>\n",
              "      <td>284807.0</td>\n",
              "      <td>284807.0</td>\n",
              "    </tr>\n",
              "    <tr>\n",
              "      <th>mean</th>\n",
              "      <td>94814.0</td>\n",
              "      <td>0.0</td>\n",
              "      <td>0.0</td>\n",
              "      <td>-0.0</td>\n",
              "      <td>0.0</td>\n",
              "      <td>0.0</td>\n",
              "      <td>0.0</td>\n",
              "      <td>-0.0</td>\n",
              "      <td>0.0</td>\n",
              "      <td>-0.0</td>\n",
              "      <td>...</td>\n",
              "      <td>0.0</td>\n",
              "      <td>-0.0</td>\n",
              "      <td>0.0</td>\n",
              "      <td>0.0</td>\n",
              "      <td>0.0</td>\n",
              "      <td>0.0</td>\n",
              "      <td>-0.0</td>\n",
              "      <td>-0.0</td>\n",
              "      <td>88.0</td>\n",
              "      <td>0.0</td>\n",
              "    </tr>\n",
              "    <tr>\n",
              "      <th>std</th>\n",
              "      <td>47488.0</td>\n",
              "      <td>2.0</td>\n",
              "      <td>2.0</td>\n",
              "      <td>2.0</td>\n",
              "      <td>1.0</td>\n",
              "      <td>1.0</td>\n",
              "      <td>1.0</td>\n",
              "      <td>1.0</td>\n",
              "      <td>1.0</td>\n",
              "      <td>1.0</td>\n",
              "      <td>...</td>\n",
              "      <td>1.0</td>\n",
              "      <td>1.0</td>\n",
              "      <td>1.0</td>\n",
              "      <td>1.0</td>\n",
              "      <td>1.0</td>\n",
              "      <td>0.0</td>\n",
              "      <td>0.0</td>\n",
              "      <td>0.0</td>\n",
              "      <td>250.0</td>\n",
              "      <td>0.0</td>\n",
              "    </tr>\n",
              "    <tr>\n",
              "      <th>min</th>\n",
              "      <td>0.0</td>\n",
              "      <td>-56.0</td>\n",
              "      <td>-73.0</td>\n",
              "      <td>-48.0</td>\n",
              "      <td>-6.0</td>\n",
              "      <td>-114.0</td>\n",
              "      <td>-26.0</td>\n",
              "      <td>-44.0</td>\n",
              "      <td>-73.0</td>\n",
              "      <td>-13.0</td>\n",
              "      <td>...</td>\n",
              "      <td>-35.0</td>\n",
              "      <td>-11.0</td>\n",
              "      <td>-45.0</td>\n",
              "      <td>-3.0</td>\n",
              "      <td>-10.0</td>\n",
              "      <td>-3.0</td>\n",
              "      <td>-23.0</td>\n",
              "      <td>-15.0</td>\n",
              "      <td>0.0</td>\n",
              "      <td>0.0</td>\n",
              "    </tr>\n",
              "    <tr>\n",
              "      <th>25%</th>\n",
              "      <td>54202.0</td>\n",
              "      <td>-1.0</td>\n",
              "      <td>-1.0</td>\n",
              "      <td>-1.0</td>\n",
              "      <td>-1.0</td>\n",
              "      <td>-1.0</td>\n",
              "      <td>-1.0</td>\n",
              "      <td>-1.0</td>\n",
              "      <td>-0.0</td>\n",
              "      <td>-1.0</td>\n",
              "      <td>...</td>\n",
              "      <td>-0.0</td>\n",
              "      <td>-1.0</td>\n",
              "      <td>-0.0</td>\n",
              "      <td>-0.0</td>\n",
              "      <td>-0.0</td>\n",
              "      <td>-0.0</td>\n",
              "      <td>-0.0</td>\n",
              "      <td>-0.0</td>\n",
              "      <td>6.0</td>\n",
              "      <td>0.0</td>\n",
              "    </tr>\n",
              "    <tr>\n",
              "      <th>50%</th>\n",
              "      <td>84692.0</td>\n",
              "      <td>0.0</td>\n",
              "      <td>0.0</td>\n",
              "      <td>0.0</td>\n",
              "      <td>-0.0</td>\n",
              "      <td>-0.0</td>\n",
              "      <td>-0.0</td>\n",
              "      <td>0.0</td>\n",
              "      <td>0.0</td>\n",
              "      <td>-0.0</td>\n",
              "      <td>...</td>\n",
              "      <td>-0.0</td>\n",
              "      <td>0.0</td>\n",
              "      <td>-0.0</td>\n",
              "      <td>0.0</td>\n",
              "      <td>0.0</td>\n",
              "      <td>-0.0</td>\n",
              "      <td>0.0</td>\n",
              "      <td>0.0</td>\n",
              "      <td>22.0</td>\n",
              "      <td>0.0</td>\n",
              "    </tr>\n",
              "    <tr>\n",
              "      <th>75%</th>\n",
              "      <td>139320.0</td>\n",
              "      <td>1.0</td>\n",
              "      <td>1.0</td>\n",
              "      <td>1.0</td>\n",
              "      <td>1.0</td>\n",
              "      <td>1.0</td>\n",
              "      <td>0.0</td>\n",
              "      <td>1.0</td>\n",
              "      <td>0.0</td>\n",
              "      <td>1.0</td>\n",
              "      <td>...</td>\n",
              "      <td>0.0</td>\n",
              "      <td>1.0</td>\n",
              "      <td>0.0</td>\n",
              "      <td>0.0</td>\n",
              "      <td>0.0</td>\n",
              "      <td>0.0</td>\n",
              "      <td>0.0</td>\n",
              "      <td>0.0</td>\n",
              "      <td>77.0</td>\n",
              "      <td>0.0</td>\n",
              "    </tr>\n",
              "    <tr>\n",
              "      <th>max</th>\n",
              "      <td>172792.0</td>\n",
              "      <td>2.0</td>\n",
              "      <td>22.0</td>\n",
              "      <td>9.0</td>\n",
              "      <td>17.0</td>\n",
              "      <td>35.0</td>\n",
              "      <td>73.0</td>\n",
              "      <td>121.0</td>\n",
              "      <td>20.0</td>\n",
              "      <td>16.0</td>\n",
              "      <td>...</td>\n",
              "      <td>27.0</td>\n",
              "      <td>11.0</td>\n",
              "      <td>23.0</td>\n",
              "      <td>5.0</td>\n",
              "      <td>8.0</td>\n",
              "      <td>4.0</td>\n",
              "      <td>32.0</td>\n",
              "      <td>34.0</td>\n",
              "      <td>25691.0</td>\n",
              "      <td>1.0</td>\n",
              "    </tr>\n",
              "  </tbody>\n",
              "</table>\n",
              "<p>8 rows × 31 columns</p>\n",
              "</div>\n",
              "      <button class=\"colab-df-convert\" onclick=\"convertToInteractive('df-136f86f6-475a-4c38-9f39-5f6c40e39509')\"\n",
              "              title=\"Convert this dataframe to an interactive table.\"\n",
              "              style=\"display:none;\">\n",
              "\n",
              "  <svg xmlns=\"http://www.w3.org/2000/svg\" height=\"24px\"viewBox=\"0 0 24 24\"\n",
              "       width=\"24px\">\n",
              "    <path d=\"M0 0h24v24H0V0z\" fill=\"none\"/>\n",
              "    <path d=\"M18.56 5.44l.94 2.06.94-2.06 2.06-.94-2.06-.94-.94-2.06-.94 2.06-2.06.94zm-11 1L8.5 8.5l.94-2.06 2.06-.94-2.06-.94L8.5 2.5l-.94 2.06-2.06.94zm10 10l.94 2.06.94-2.06 2.06-.94-2.06-.94-.94-2.06-.94 2.06-2.06.94z\"/><path d=\"M17.41 7.96l-1.37-1.37c-.4-.4-.92-.59-1.43-.59-.52 0-1.04.2-1.43.59L10.3 9.45l-7.72 7.72c-.78.78-.78 2.05 0 2.83L4 21.41c.39.39.9.59 1.41.59.51 0 1.02-.2 1.41-.59l7.78-7.78 2.81-2.81c.8-.78.8-2.07 0-2.86zM5.41 20L4 18.59l7.72-7.72 1.47 1.35L5.41 20z\"/>\n",
              "  </svg>\n",
              "      </button>\n",
              "\n",
              "\n",
              "\n",
              "    <div id=\"df-c141f261-232e-4bde-bb40-ffbbe007c7dc\">\n",
              "      <button class=\"colab-df-quickchart\" onclick=\"quickchart('df-c141f261-232e-4bde-bb40-ffbbe007c7dc')\"\n",
              "              title=\"Suggest charts.\"\n",
              "              style=\"display:none;\">\n",
              "\n",
              "<svg xmlns=\"http://www.w3.org/2000/svg\" height=\"24px\"viewBox=\"0 0 24 24\"\n",
              "     width=\"24px\">\n",
              "    <g>\n",
              "        <path d=\"M19 3H5c-1.1 0-2 .9-2 2v14c0 1.1.9 2 2 2h14c1.1 0 2-.9 2-2V5c0-1.1-.9-2-2-2zM9 17H7v-7h2v7zm4 0h-2V7h2v10zm4 0h-2v-4h2v4z\"/>\n",
              "    </g>\n",
              "</svg>\n",
              "      </button>\n",
              "    </div>\n",
              "\n",
              "<style>\n",
              "  .colab-df-quickchart {\n",
              "    background-color: #E8F0FE;\n",
              "    border: none;\n",
              "    border-radius: 50%;\n",
              "    cursor: pointer;\n",
              "    display: none;\n",
              "    fill: #1967D2;\n",
              "    height: 32px;\n",
              "    padding: 0 0 0 0;\n",
              "    width: 32px;\n",
              "  }\n",
              "\n",
              "  .colab-df-quickchart:hover {\n",
              "    background-color: #E2EBFA;\n",
              "    box-shadow: 0px 1px 2px rgba(60, 64, 67, 0.3), 0px 1px 3px 1px rgba(60, 64, 67, 0.15);\n",
              "    fill: #174EA6;\n",
              "  }\n",
              "\n",
              "  [theme=dark] .colab-df-quickchart {\n",
              "    background-color: #3B4455;\n",
              "    fill: #D2E3FC;\n",
              "  }\n",
              "\n",
              "  [theme=dark] .colab-df-quickchart:hover {\n",
              "    background-color: #434B5C;\n",
              "    box-shadow: 0px 1px 3px 1px rgba(0, 0, 0, 0.15);\n",
              "    filter: drop-shadow(0px 1px 2px rgba(0, 0, 0, 0.3));\n",
              "    fill: #FFFFFF;\n",
              "  }\n",
              "</style>\n",
              "\n",
              "    <script>\n",
              "      async function quickchart(key) {\n",
              "        const containerElement = document.querySelector('#' + key);\n",
              "        const charts = await google.colab.kernel.invokeFunction(\n",
              "            'suggestCharts', [key], {});\n",
              "      }\n",
              "    </script>\n",
              "\n",
              "      <script>\n",
              "\n",
              "function displayQuickchartButton(domScope) {\n",
              "  let quickchartButtonEl =\n",
              "    domScope.querySelector('#df-c141f261-232e-4bde-bb40-ffbbe007c7dc button.colab-df-quickchart');\n",
              "  quickchartButtonEl.style.display =\n",
              "    google.colab.kernel.accessAllowed ? 'block' : 'none';\n",
              "}\n",
              "\n",
              "        displayQuickchartButton(document);\n",
              "      </script>\n",
              "      <style>\n",
              "    .colab-df-container {\n",
              "      display:flex;\n",
              "      flex-wrap:wrap;\n",
              "      gap: 12px;\n",
              "    }\n",
              "\n",
              "    .colab-df-convert {\n",
              "      background-color: #E8F0FE;\n",
              "      border: none;\n",
              "      border-radius: 50%;\n",
              "      cursor: pointer;\n",
              "      display: none;\n",
              "      fill: #1967D2;\n",
              "      height: 32px;\n",
              "      padding: 0 0 0 0;\n",
              "      width: 32px;\n",
              "    }\n",
              "\n",
              "    .colab-df-convert:hover {\n",
              "      background-color: #E2EBFA;\n",
              "      box-shadow: 0px 1px 2px rgba(60, 64, 67, 0.3), 0px 1px 3px 1px rgba(60, 64, 67, 0.15);\n",
              "      fill: #174EA6;\n",
              "    }\n",
              "\n",
              "    [theme=dark] .colab-df-convert {\n",
              "      background-color: #3B4455;\n",
              "      fill: #D2E3FC;\n",
              "    }\n",
              "\n",
              "    [theme=dark] .colab-df-convert:hover {\n",
              "      background-color: #434B5C;\n",
              "      box-shadow: 0px 1px 3px 1px rgba(0, 0, 0, 0.15);\n",
              "      filter: drop-shadow(0px 1px 2px rgba(0, 0, 0, 0.3));\n",
              "      fill: #FFFFFF;\n",
              "    }\n",
              "  </style>\n",
              "\n",
              "      <script>\n",
              "        const buttonEl =\n",
              "          document.querySelector('#df-136f86f6-475a-4c38-9f39-5f6c40e39509 button.colab-df-convert');\n",
              "        buttonEl.style.display =\n",
              "          google.colab.kernel.accessAllowed ? 'block' : 'none';\n",
              "\n",
              "        async function convertToInteractive(key) {\n",
              "          const element = document.querySelector('#df-136f86f6-475a-4c38-9f39-5f6c40e39509');\n",
              "          const dataTable =\n",
              "            await google.colab.kernel.invokeFunction('convertToInteractive',\n",
              "                                                     [key], {});\n",
              "          if (!dataTable) return;\n",
              "\n",
              "          const docLinkHtml = 'Like what you see? Visit the ' +\n",
              "            '<a target=\"_blank\" href=https://colab.research.google.com/notebooks/data_table.ipynb>data table notebook</a>'\n",
              "            + ' to learn more about interactive tables.';\n",
              "          element.innerHTML = '';\n",
              "          dataTable['output_type'] = 'display_data';\n",
              "          await google.colab.output.renderOutput(dataTable, element);\n",
              "          const docLink = document.createElement('div');\n",
              "          docLink.innerHTML = docLinkHtml;\n",
              "          element.appendChild(docLink);\n",
              "        }\n",
              "      </script>\n",
              "    </div>\n",
              "  </div>\n"
            ]
          },
          "metadata": {},
          "execution_count": 64
        }
      ]
    },
    {
      "cell_type": "markdown",
      "source": [
        "### Statistical information in each class"
      ],
      "metadata": {
        "id": "hGzly9AG46C0"
      }
    },
    {
      "cell_type": "code",
      "source": [
        "print ('Not Fraud % ',round(df['Class'].value_counts()[0]/len(df)*100,2))\n",
        "print ()\n",
        "print (round(df.Amount[df.Class == 0].describe(),2))\n",
        "print ()\n",
        "print ()\n",
        "print ('Fraud %    ',round(df['Class'].value_counts()[1]/len(df)*100,2))\n",
        "print ()\n",
        "print (round(df.Amount[df.Class == 1].describe(),2))"
      ],
      "metadata": {
        "execution": {
          "iopub.status.busy": "2023-07-11T14:27:41.523493Z",
          "iopub.execute_input": "2023-07-11T14:27:41.525514Z",
          "iopub.status.idle": "2023-07-11T14:27:41.579825Z",
          "shell.execute_reply.started": "2023-07-11T14:27:41.525458Z",
          "shell.execute_reply": "2023-07-11T14:27:41.578896Z"
        },
        "trusted": true,
        "colab": {
          "base_uri": "https://localhost:8080/"
        },
        "id": "sdC6WZ9B46C2",
        "outputId": "2ba9cf4e-09d5-4ee1-bd93-f57c9c1f16fc"
      },
      "execution_count": null,
      "outputs": [
        {
          "output_type": "stream",
          "name": "stdout",
          "text": [
            "Not Fraud %  99.83\n",
            "\n",
            "count    284315.00\n",
            "mean         88.29\n",
            "std         250.11\n",
            "min           0.00\n",
            "25%           5.65\n",
            "50%          22.00\n",
            "75%          77.05\n",
            "max       25691.16\n",
            "Name: Amount, dtype: float64\n",
            "\n",
            "\n",
            "Fraud %     0.17\n",
            "\n",
            "count     492.00\n",
            "mean      122.21\n",
            "std       256.68\n",
            "min         0.00\n",
            "25%         1.00\n",
            "50%         9.25\n",
            "75%       105.89\n",
            "max      2125.87\n",
            "Name: Amount, dtype: float64\n"
          ]
        }
      ]
    },
    {
      "cell_type": "markdown",
      "source": [
        "*The average value of fraud transactions is 122.21 and for normal transactions, 88.29."
      ],
      "metadata": {
        "id": "fnhNwAHQ46C5"
      }
    },
    {
      "cell_type": "markdown",
      "source": [
        "### Comparing the amount value of normal transactions versus fraud"
      ],
      "metadata": {
        "id": "ywmDazKM46C6"
      }
    },
    {
      "cell_type": "code",
      "source": [
        "plt.figure(figsize=(10,8))\n",
        "sns.set_style('darkgrid')\n",
        "sns.barplot(x=df['Class'].value_counts().index,y=df['Class'].value_counts(), palette=[\"C1\", \"C8\"])\n",
        "plt.title('Non Fraud X Fraud')\n",
        "plt.ylabel('Count')\n",
        "plt.xlabel('0: Non Fraud,  1: Fraud')\n",
        "print ('Non Fraud % ',round(df['Class'].value_counts()[0]/len(df)*100,2))\n",
        "print ('Fraud %    ',round(df['Class'].value_counts()[1]/len(df)*100,2));"
      ],
      "metadata": {
        "execution": {
          "iopub.status.busy": "2023-07-11T14:27:41.584354Z",
          "iopub.execute_input": "2023-07-11T14:27:41.586439Z",
          "iopub.status.idle": "2023-07-11T14:27:41.825940Z",
          "shell.execute_reply.started": "2023-07-11T14:27:41.586376Z",
          "shell.execute_reply": "2023-07-11T14:27:41.825134Z"
        },
        "trusted": true,
        "colab": {
          "base_uri": "https://localhost:8080/",
          "height": 753
        },
        "id": "QUP2nxUL46C7",
        "outputId": "4bbce437-cc0a-4ca9-e2eb-bf9404891a14"
      },
      "execution_count": null,
      "outputs": [
        {
          "output_type": "stream",
          "name": "stdout",
          "text": [
            "Non Fraud %  99.83\n",
            "Fraud %     0.17\n"
          ]
        },
        {
          "output_type": "display_data",
          "data": {
            "text/plain": [
              "<Figure size 1000x800 with 1 Axes>"
            ],
            "image/png": "[encoded data removed]"
          },
          "metadata": {}
        }
      ]
    },
    {
      "cell_type": "markdown",
      "source": [
        "We can see the total of 284,807 transactions, 284,315 were labeled as normal (99.83%), and only 492 transactions were labeled as fraud (0.17%). Although it may seem small, each fraud transaction can represent a very significant expense, which together can represent billions of dollars of lost revenue each year."
      ],
      "metadata": {
        "id": "8NuHS-AS46DE"
      }
    },
    {
      "cell_type": "markdown",
      "source": [
        "### Separation of input variables from target variable"
      ],
      "metadata": {
        "id": "pHUILf1L46DH"
      }
    },
    {
      "cell_type": "code",
      "source": [
        "feature_names = df.iloc[:, 1:30].columns\n",
        "target = df.iloc[:1, 30:].columns\n",
        "\n",
        "data_features = df[feature_names]\n",
        "data_target = df[target]"
      ],
      "metadata": {
        "execution": {
          "iopub.status.busy": "2023-07-11T14:27:41.830306Z",
          "iopub.execute_input": "2023-07-11T14:27:41.832375Z",
          "iopub.status.idle": "2023-07-11T14:27:41.958995Z",
          "shell.execute_reply.started": "2023-07-11T14:27:41.832308Z",
          "shell.execute_reply": "2023-07-11T14:27:41.958131Z"
        },
        "trusted": true,
        "id": "40sjfZ4i46DL"
      },
      "execution_count": null,
      "outputs": []
    },
    {
      "cell_type": "code",
      "source": [
        "\n",
        "feature_names"
      ],
      "metadata": {
        "execution": {
          "iopub.status.busy": "2023-07-11T14:27:41.963776Z",
          "iopub.execute_input": "2023-07-11T14:27:41.965869Z",
          "iopub.status.idle": "2023-07-11T14:27:41.975069Z",
          "shell.execute_reply.started": "2023-07-11T14:27:41.965805Z",
          "shell.execute_reply": "2023-07-11T14:27:41.974285Z"
        },
        "trusted": true,
        "colab": {
          "base_uri": "https://localhost:8080/"
        },
        "id": "xapd4fID46DN",
        "outputId": "ee9ef61c-d0ba-4ee6-8f7e-0259dab48b1f"
      },
      "execution_count": null,
      "outputs": [
        {
          "output_type": "execute_result",
          "data": {
            "text/plain": [
              "Index(['V1', 'V2', 'V3', 'V4', 'V5', 'V6', 'V7', 'V8', 'V9', 'V10', 'V11',\n",
              "       'V12', 'V13', 'V14', 'V15', 'V16', 'V17', 'V18', 'V19', 'V20', 'V21',\n",
              "       'V22', 'V23', 'V24', 'V25', 'V26', 'V27', 'V28', 'Amount'],\n",
              "      dtype='object')"
            ]
          },
          "metadata": {},
          "execution_count": 68
        }
      ]
    },
    {
      "cell_type": "code",
      "source": [
        "target"
      ],
      "metadata": {
        "execution": {
          "iopub.status.busy": "2023-07-11T14:27:41.979470Z",
          "iopub.execute_input": "2023-07-11T14:27:41.981968Z",
          "iopub.status.idle": "2023-07-11T14:27:41.990947Z",
          "shell.execute_reply.started": "2023-07-11T14:27:41.981769Z",
          "shell.execute_reply": "2023-07-11T14:27:41.990238Z"
        },
        "trusted": true,
        "colab": {
          "base_uri": "https://localhost:8080/"
        },
        "id": "-vPztywR46DO",
        "outputId": "263d9f85-685f-4a1f-dd85-82deac56e701"
      },
      "execution_count": null,
      "outputs": [
        {
          "output_type": "execute_result",
          "data": {
            "text/plain": [
              "Index(['Class'], dtype='object')"
            ]
          },
          "metadata": {},
          "execution_count": 69
        }
      ]
    },
    {
      "cell_type": "markdown",
      "source": [
        "With the dataset defined, separating the input variables from the target variable, we divided the data into training and test sets, importing the train_test_split function.\n",
        "\n",
        "The train_test_split function uses a randomizer to separate data into training and test sets. In this case, 70% of the data for training and 30% for tests were defined.\n",
        "\n",
        "The random seed (np.random.seed) is used to ensure that the same data is used for all runs."
      ],
      "metadata": {
        "id": "fuBeG7kE46DW"
      }
    },
    {
      "cell_type": "code",
      "source": [
        "from sklearn.model_selection import train_test_split\n",
        "np.random.seed(123)\n",
        "X_train, X_test, y_train, y_test = train_test_split(data_features, data_target,\n",
        "                                                    train_size = 0.70, test_size = 0.30, random_state = 1)"
      ],
      "metadata": {
        "execution": {
          "iopub.status.busy": "2023-07-11T14:27:41.995437Z",
          "iopub.execute_input": "2023-07-11T14:27:41.997767Z",
          "iopub.status.idle": "2023-07-11T14:27:42.244642Z",
          "shell.execute_reply.started": "2023-07-11T14:27:41.997716Z",
          "shell.execute_reply": "2023-07-11T14:27:42.243714Z"
        },
        "trusted": true,
        "id": "fSrU0S9x46DX"
      },
      "execution_count": null,
      "outputs": []
    },
    {
      "cell_type": "markdown",
      "source": [
        "### Building the Regression Logistic model"
      ],
      "metadata": {
        "id": "DaoPAT8A46DY"
      }
    },
    {
      "cell_type": "code",
      "source": [
        "from sklearn.linear_model import LogisticRegression\n",
        "lr = LogisticRegression()"
      ],
      "metadata": {
        "execution": {
          "iopub.status.busy": "2023-07-11T14:27:42.249600Z",
          "iopub.execute_input": "2023-07-11T14:27:42.251714Z",
          "iopub.status.idle": "2023-07-11T14:27:42.327808Z",
          "shell.execute_reply.started": "2023-07-11T14:27:42.251648Z",
          "shell.execute_reply": "2023-07-11T14:27:42.326900Z"
        },
        "trusted": true,
        "id": "Ydyw0Hjm46DZ"
      },
      "execution_count": null,
      "outputs": []
    },
    {
      "cell_type": "markdown",
      "source": [
        "### Training the model"
      ],
      "metadata": {
        "id": "sqQQ-Wnb46Du"
      }
    },
    {
      "cell_type": "code",
      "source": [
        "lr.fit(X_train, y_train)"
      ],
      "metadata": {
        "execution": {
          "iopub.status.busy": "2023-07-11T14:27:42.332595Z",
          "iopub.execute_input": "2023-07-11T14:27:42.334651Z",
          "iopub.status.idle": "2023-07-11T14:27:47.866046Z",
          "shell.execute_reply.started": "2023-07-11T14:27:42.334594Z",
          "shell.execute_reply": "2023-07-11T14:27:47.865132Z"
        },
        "trusted": true,
        "colab": {
          "base_uri": "https://localhost:8080/",
          "height": 75
        },
        "id": "9c1XvXi946Dv",
        "outputId": "79de6edb-c882-4c86-8e4e-fe6e40a2285e"
      },
      "execution_count": null,
      "outputs": [
        {
          "output_type": "execute_result",
          "data": {
            "text/plain": [
              "LogisticRegression()"
            ],
            "text/html": [
              "<style>#sk-container-id-1 {color: black;background-color: white;}#sk-container-id-1 pre{padding: 0;}#sk-container-id-1 div.sk-toggleable {background-color: white;}#sk-container-id-1 label.sk-toggleable__label {cursor: pointer;display: block;width: 100%;margin-bottom: 0;padding: 0.3em;box-sizing: border-box;text-align: center;}#sk-container-id-1 label.sk-toggleable__label-arrow:before {content: \"▸\";float: left;margin-right: 0.25em;color: #696969;}#sk-container-id-1 label.sk-toggleable__label-arrow:hover:before {color: black;}#sk-container-id-1 div.sk-estimator:hover label.sk-toggleable__label-arrow:before {color: black;}#sk-container-id-1 div.sk-toggleable__content {max-height: 0;max-width: 0;overflow: hidden;text-align: left;background-color: #f0f8ff;}#sk-container-id-1 div.sk-toggleable__content pre {margin: 0.2em;color: black;border-radius: 0.25em;background-color: #f0f8ff;}#sk-container-id-1 input.sk-toggleable__control:checked~div.sk-toggleable__content {max-height: 200px;max-width: 100%;overflow: auto;}#sk-container-id-1 input.sk-toggleable__control:checked~label.sk-toggleable__label-arrow:before {content: \"▾\";}#sk-container-id-1 div.sk-estimator input.sk-toggleable__control:checked~label.sk-toggleable__label {background-color: #d4ebff;}#sk-container-id-1 div.sk-label input.sk-toggleable__control:checked~label.sk-toggleable__label {background-color: #d4ebff;}#sk-container-id-1 input.sk-hidden--visually {border: 0;clip: rect(1px 1px 1px 1px);clip: rect(1px, 1px, 1px, 1px);height: 1px;margin: -1px;overflow: hidden;padding: 0;position: absolute;width: 1px;}#sk-container-id-1 div.sk-estimator {font-family: monospace;background-color: #f0f8ff;border: 1px dotted black;border-radius: 0.25em;box-sizing: border-box;margin-bottom: 0.5em;}#sk-container-id-1 div.sk-estimator:hover {background-color: #d4ebff;}#sk-container-id-1 div.sk-parallel-item::after {content: \"\";width: 100%;border-bottom: 1px solid gray;flex-grow: 1;}#sk-container-id-1 div.sk-label:hover label.sk-toggleable__label {background-color: #d4ebff;}#sk-container-id-1 div.sk-serial::before {content: \"\";position: absolute;border-left: 1px solid gray;box-sizing: border-box;top: 0;bottom: 0;left: 50%;z-index: 0;}#sk-container-id-1 div.sk-serial {display: flex;flex-direction: column;align-items: center;background-color: white;padding-right: 0.2em;padding-left: 0.2em;position: relative;}#sk-container-id-1 div.sk-item {position: relative;z-index: 1;}#sk-container-id-1 div.sk-parallel {display: flex;align-items: stretch;justify-content: center;background-color: white;position: relative;}#sk-container-id-1 div.sk-item::before, #sk-container-id-1 div.sk-parallel-item::before {content: \"\";position: absolute;border-left: 1px solid gray;box-sizing: border-box;top: 0;bottom: 0;left: 50%;z-index: -1;}#sk-container-id-1 div.sk-parallel-item {display: flex;flex-direction: column;z-index: 1;position: relative;background-color: white;}#sk-container-id-1 div.sk-parallel-item:first-child::after {align-self: flex-end;width: 50%;}#sk-container-id-1 div.sk-parallel-item:last-child::after {align-self: flex-start;width: 50%;}#sk-container-id-1 div.sk-parallel-item:only-child::after {width: 0;}#sk-container-id-1 div.sk-dashed-wrapped {border: 1px dashed gray;margin: 0 0.4em 0.5em 0.4em;box-sizing: border-box;padding-bottom: 0.4em;background-color: white;}#sk-container-id-1 div.sk-label label {font-family: monospace;font-weight: bold;display: inline-block;line-height: 1.2em;}#sk-container-id-1 div.sk-label-container {text-align: center;}#sk-container-id-1 div.sk-container {/* jupyter's `normalize.less` sets `[hidden] { display: none; }` but bootstrap.min.css set `[hidden] { display: none !important; }` so we also need the `!important` here to be able to override the default hidden behavior on the sphinx rendered scikit-learn.org. See: https://github.com/scikit-learn/scikit-learn/issues/21755 */display: inline-block !important;position: relative;}#sk-container-id-1 div.sk-text-repr-fallback {display: none;}</style><div id=\"sk-container-id-1\" class=\"sk-top-container\"><div class=\"sk-text-repr-fallback\"><pre>LogisticRegression()</pre><b>In a Jupyter environment, please rerun this cell to show the HTML representation or trust the notebook. <br />On GitHub, the HTML representation is unable to render, please try loading this page with nbviewer.org.</b></div><div class=\"sk-container\" hidden><div class=\"sk-item\"><div class=\"sk-estimator sk-toggleable\"><input class=\"sk-toggleable__control sk-hidden--visually\" id=\"sk-estimator-id-1\" type=\"checkbox\" checked><label for=\"sk-estimator-id-1\" class=\"sk-toggleable__label sk-toggleable__label-arrow\">LogisticRegression</label><div class=\"sk-toggleable__content\"><pre>LogisticRegression()</pre></div></div></div></div></div>"
            ]
          },
          "metadata": {},
          "execution_count": 72
        }
      ]
    },
    {
      "cell_type": "markdown",
      "source": [
        "### Confusion Matrix - Model performance measures"
      ],
      "metadata": {
        "id": "u0N8kFPL46D2"
      }
    },
    {
      "cell_type": "code",
      "source": [
        "\n",
        "def PrintStats(cmat, y_test, pred):\n",
        "    tpos = cmat[0][0]\n",
        "    fneg = cmat[1][1]\n",
        "    fpos = cmat[0][1]\n",
        "    tneg = cmat[1][0]"
      ],
      "metadata": {
        "execution": {
          "iopub.status.busy": "2023-07-11T14:27:47.870907Z",
          "iopub.execute_input": "2023-07-11T14:27:47.873109Z",
          "iopub.status.idle": "2023-07-11T14:27:47.879997Z",
          "shell.execute_reply.started": "2023-07-11T14:27:47.873042Z",
          "shell.execute_reply": "2023-07-11T14:27:47.879182Z"
        },
        "trusted": true,
        "id": "rZPUJtj146D3"
      },
      "execution_count": null,
      "outputs": []
    },
    {
      "cell_type": "code",
      "source": [
        "def RunModel(model, X_train, y_train, X_test, y_test):\n",
        "    model.fit(X_train, y_train.values.ravel())\n",
        "    pred = model.predict(X_test)\n",
        "    matrix = confusion_matrix(y_test, pred)\n",
        "    return matrix, pred"
      ],
      "metadata": {
        "execution": {
          "iopub.status.busy": "2023-07-11T14:27:47.884431Z",
          "iopub.execute_input": "2023-07-11T14:27:47.886562Z",
          "iopub.status.idle": "2023-07-11T14:27:47.901543Z",
          "shell.execute_reply.started": "2023-07-11T14:27:47.886479Z",
          "shell.execute_reply": "2023-07-11T14:27:47.900812Z"
        },
        "trusted": true,
        "id": "n7RwjOFI46D6"
      },
      "execution_count": null,
      "outputs": []
    },
    {
      "cell_type": "markdown",
      "source": [
        "### Classification Report - Model performance measures"
      ],
      "metadata": {
        "id": "VH9OWWxr46D9"
      }
    },
    {
      "cell_type": "code",
      "source": [
        "!pip install scikit-plot\n",
        "from sklearn.metrics import accuracy_score, confusion_matrix, classification_report, roc_auc_score, roc_curve\n",
        "import scikitplot as skplt"
      ],
      "metadata": {
        "execution": {
          "iopub.status.busy": "2023-07-11T14:27:47.906219Z",
          "iopub.execute_input": "2023-07-11T14:27:47.908655Z",
          "iopub.status.idle": "2023-07-11T14:27:47.934478Z",
          "shell.execute_reply.started": "2023-07-11T14:27:47.908595Z",
          "shell.execute_reply": "2023-07-11T14:27:47.933565Z"
        },
        "trusted": true,
        "colab": {
          "base_uri": "https://localhost:8080/"
        },
        "id": "0-Vayhf146D-",
        "outputId": "2f41f072-16e3-4b36-f09f-d7cd6afb7096"
      },
      "execution_count": null,
      "outputs": [
        {
          "output_type": "stream",
          "name": "stdout",
          "text": [
            "Requirement already satisfied: scikit-plot in /usr/local/lib/python3.10/dist-packages (0.3.7)\n",
            "Requirement already satisfied: matplotlib>=1.4.0 in /usr/local/lib/python3.10/dist-packages (from scikit-plot) (3.7.1)\n",
            "Requirement already satisfied: scikit-learn>=0.18 in /usr/local/lib/python3.10/dist-packages (from scikit-plot) (1.2.2)\n",
            "Requirement already satisfied: scipy>=0.9 in /usr/local/lib/python3.10/dist-packages (from scikit-plot) (1.10.1)\n",
            "Requirement already satisfied: joblib>=0.10 in /usr/local/lib/python3.10/dist-packages (from scikit-plot) (1.3.1)\n",
            "Requirement already satisfied: contourpy>=1.0.1 in /usr/local/lib/python3.10/dist-packages (from matplotlib>=1.4.0->scikit-plot) (1.1.0)\n",
            "Requirement already satisfied: cycler>=0.10 in /usr/local/lib/python3.10/dist-packages (from matplotlib>=1.4.0->scikit-plot) (0.11.0)\n",
            "Requirement already satisfied: fonttools>=4.22.0 in /usr/local/lib/python3.10/dist-packages (from matplotlib>=1.4.0->scikit-plot) (4.40.0)\n",
            "Requirement already satisfied: kiwisolver>=1.0.1 in /usr/local/lib/python3.10/dist-packages (from matplotlib>=1.4.0->scikit-plot) (1.4.4)\n",
            "Requirement already satisfied: numpy>=1.20 in /usr/local/lib/python3.10/dist-packages (from matplotlib>=1.4.0->scikit-plot) (1.22.4)\n",
            "Requirement already satisfied: packaging>=20.0 in /usr/local/lib/python3.10/dist-packages (from matplotlib>=1.4.0->scikit-plot) (23.1)\n",
            "Requirement already satisfied: pillow>=6.2.0 in /usr/local/lib/python3.10/dist-packages (from matplotlib>=1.4.0->scikit-plot) (8.4.0)\n",
            "Requirement already satisfied: pyparsing>=2.3.1 in /usr/local/lib/python3.10/dist-packages (from matplotlib>=1.4.0->scikit-plot) (3.1.0)\n",
            "Requirement already satisfied: python-dateutil>=2.7 in /usr/local/lib/python3.10/dist-packages (from matplotlib>=1.4.0->scikit-plot) (2.8.2)\n",
            "Requirement already satisfied: threadpoolctl>=2.0.0 in /usr/local/lib/python3.10/dist-packages (from scikit-learn>=0.18->scikit-plot) (3.1.0)\n",
            "Requirement already satisfied: six>=1.5 in /usr/local/lib/python3.10/dist-packages (from python-dateutil>=2.7->matplotlib>=1.4.0->scikit-plot) (1.16.0)\n"
          ]
        }
      ]
    },
    {
      "cell_type": "code",
      "source": [
        "cmat, pred = RunModel(lr, X_train, y_train, X_test, y_test)"
      ],
      "metadata": {
        "execution": {
          "iopub.status.busy": "2023-07-11T14:27:47.939434Z",
          "iopub.execute_input": "2023-07-11T14:27:47.941709Z",
          "iopub.status.idle": "2023-07-11T14:27:53.181825Z",
          "shell.execute_reply.started": "2023-07-11T14:27:47.941645Z",
          "shell.execute_reply": "2023-07-11T14:27:53.180901Z"
        },
        "trusted": true,
        "id": "Qp6ASYu646D_"
      },
      "execution_count": null,
      "outputs": []
    },
    {
      "cell_type": "code",
      "source": [
        "import scikitplot as skplt\n",
        "skplt.metrics.plot_confusion_matrix(y_test, pred)"
      ],
      "metadata": {
        "execution": {
          "iopub.status.busy": "2023-07-11T14:27:53.186754Z",
          "iopub.execute_input": "2023-07-11T14:27:53.189075Z",
          "iopub.status.idle": "2023-07-11T14:27:53.504711Z",
          "shell.execute_reply.started": "2023-07-11T14:27:53.188992Z",
          "shell.execute_reply": "2023-07-11T14:27:53.503515Z"
        },
        "trusted": true,
        "id": "tsjORjhY46EH",
        "outputId": "a1024b51-9af5-4a6e-8696-ca20bc06672f",
        "colab": {
          "base_uri": "https://localhost:8080/",
          "height": 489
        }
      },
      "execution_count": null,
      "outputs": [
        {
          "output_type": "execute_result",
          "data": {
            "text/plain": [
              "<Axes: title={'center': 'Confusion Matrix'}, xlabel='Predicted label', ylabel='True label'>"
            ]
          },
          "metadata": {},
          "execution_count": 77
        },
        {
          "output_type": "display_data",
          "data": {
            "text/plain": [
              "<Figure size 640x480 with 2 Axes>"
            ],
            "image/png": "[encoded data removed]"
          },
          "metadata": {}
        }
      ]
    },
    {
      "cell_type": "code",
      "source": [
        "accuracy_score(y_test, pred)"
      ],
      "metadata": {
        "execution": {
          "iopub.status.busy": "2023-07-11T14:27:53.514833Z",
          "iopub.execute_input": "2023-07-11T14:27:53.518317Z",
          "iopub.status.idle": "2023-07-11T14:27:53.542615Z",
          "shell.execute_reply.started": "2023-07-11T14:27:53.518215Z",
          "shell.execute_reply": "2023-07-11T14:27:53.541338Z"
        },
        "trusted": true,
        "id": "m7vRFu-t46FI",
        "outputId": "1e87f1c8-1778-4a66-a197-c9caed510e40",
        "colab": {
          "base_uri": "https://localhost:8080/"
        }
      },
      "execution_count": null,
      "outputs": [
        {
          "output_type": "execute_result",
          "data": {
            "text/plain": [
              "0.9991456292499094"
            ]
          },
          "metadata": {},
          "execution_count": 78
        }
      ]
    },
    {
      "cell_type": "code",
      "source": [
        "print (classification_report(y_test, pred))"
      ],
      "metadata": {
        "execution": {
          "iopub.status.busy": "2023-07-11T14:27:53.549762Z",
          "iopub.execute_input": "2023-07-11T14:27:53.553636Z",
          "iopub.status.idle": "2023-07-11T14:27:53.708814Z",
          "shell.execute_reply.started": "2023-07-11T14:27:53.553501Z",
          "shell.execute_reply": "2023-07-11T14:27:53.707861Z"
        },
        "trusted": true,
        "id": "Eol_BOsP46FO",
        "outputId": "bcb3ce8a-5946-4321-95b8-35da07d2d683",
        "colab": {
          "base_uri": "https://localhost:8080/"
        }
      },
      "execution_count": null,
      "outputs": [
        {
          "output_type": "stream",
          "name": "stdout",
          "text": [
            "              precision    recall  f1-score   support\n",
            "\n",
            "           0       1.00      1.00      1.00     85308\n",
            "           1       0.83      0.58      0.68       135\n",
            "\n",
            "    accuracy                           1.00     85443\n",
            "   macro avg       0.91      0.79      0.84     85443\n",
            "weighted avg       1.00      1.00      1.00     85443\n",
            "\n"
          ]
        }
      ]
    },
    {
      "cell_type": "markdown",
      "source": [
        "With the Logistic Regression Model, we have:\n",
        "\n",
        "85290 transactions classified as normal and were actually normal;\n",
        "\n",
        "18 transactions classified as fraud but that were really normal (type 1 error);\n",
        "\n",
        "61 transactions classified as normal but which were fraud (type 2 error);\n",
        "\n",
        "74 transactions classified as fraud and were actually fraud.\n",
        "\n",
        "Thus, although the accuracy was excellent, the algorithm wrongly classified about 4 out of 10 fraudulent transactions.\n",
        "\n",
        "Accuracy in a highly unbalanced data set does not represent a correct value for the efficiency of a model.\n",
        "\n",
        "Initially, a method should be applied to balance the data before taking into account any performance evaluation metrics.\n",
        "\n",
        "** Accuracy in a highly unbalanced data set does not represent a correct value for the efficiency of a model. Initially, a method should be applied to balance the data before taking into account any performance evaluation metrics."
      ],
      "metadata": {
        "id": "mAx-THKs46FQ"
      }
    },
    {
      "cell_type": "markdown",
      "source": [
        "### Undersampling and Oversampling - Working with unbalanced data"
      ],
      "metadata": {
        "id": "laVn5Ori46Fq"
      }
    },
    {
      "cell_type": "markdown",
      "source": [
        "### Applying the undersampling technique"
      ],
      "metadata": {
        "id": "ASn0WxEJ46Fx"
      }
    },
    {
      "cell_type": "code",
      "source": [
        "# The function \"len\" counts the number of classes = 1 and saves it as an object \"fraud_records\"\n",
        "fraud_records = len(df[df.Class == 1])\n",
        "\n",
        "# Defines the index for fraud and non-fraud in the lines:\n",
        "fraud_indices = df[df.Class == 1].index\n",
        "not_fraud_indices = df[df.Class == 0].index\n",
        "\n",
        "# Randomly collect equal samples of each type:\n",
        "under_sample_indices = np.random.choice(not_fraud_indices, fraud_records, False)\n",
        "df_undersampled = df.iloc[np.concatenate([fraud_indices, under_sample_indices]),:]\n",
        "X_undersampled = df_undersampled.iloc[:,1:30]\n",
        "Y_undersampled = df_undersampled.Class\n",
        "X_undersampled_train, X_undersampled_test, Y_undersampled_train, Y_undersampled_test = train_test_split(X_undersampled, Y_undersampled, test_size = 0.30)"
      ],
      "metadata": {
        "execution": {
          "iopub.status.busy": "2023-07-11T14:27:53.713411Z",
          "iopub.execute_input": "2023-07-11T14:27:53.715731Z",
          "iopub.status.idle": "2023-07-11T14:27:53.813054Z",
          "shell.execute_reply.started": "2023-07-11T14:27:53.715655Z",
          "shell.execute_reply": "2023-07-11T14:27:53.812151Z"
        },
        "trusted": true,
        "id": "M4g1ymF246F1"
      },
      "execution_count": null,
      "outputs": []
    },
    {
      "cell_type": "markdown",
      "source": [
        "### Using the \"new\" classifier for balanced data"
      ],
      "metadata": {
        "id": "XVIPY18n46F5"
      }
    },
    {
      "cell_type": "code",
      "source": [
        "lr_undersampled = LogisticRegression()\n",
        "cmat, pred = RunModel(lr_undersampled, X_undersampled_train, Y_undersampled_train, X_undersampled_test, Y_undersampled_test)\n",
        "PrintStats(cmat, Y_undersampled_test, pred)"
      ],
      "metadata": {
        "execution": {
          "iopub.status.busy": "2023-07-11T14:27:53.817963Z",
          "iopub.execute_input": "2023-07-11T14:27:53.820396Z",
          "iopub.status.idle": "2023-07-11T14:27:53.863067Z",
          "shell.execute_reply.started": "2023-07-11T14:27:53.820320Z",
          "shell.execute_reply": "2023-07-11T14:27:53.862248Z"
        },
        "trusted": true,
        "id": "ojvzWBXE46F6"
      },
      "execution_count": null,
      "outputs": []
    },
    {
      "cell_type": "code",
      "source": [
        "skplt.metrics.plot_confusion_matrix(Y_undersampled_test, pred)"
      ],
      "metadata": {
        "execution": {
          "iopub.status.busy": "2023-07-11T14:27:53.867693Z",
          "iopub.execute_input": "2023-07-11T14:27:53.869975Z",
          "iopub.status.idle": "2023-07-11T14:27:54.063330Z",
          "shell.execute_reply.started": "2023-07-11T14:27:53.869902Z",
          "shell.execute_reply": "2023-07-11T14:27:54.062396Z"
        },
        "trusted": true,
        "id": "ku2_KYCt46F8",
        "outputId": "a8f8a0da-12ea-4111-89a1-5472eeed0ac2",
        "colab": {
          "base_uri": "https://localhost:8080/",
          "height": 489
        }
      },
      "execution_count": null,
      "outputs": [
        {
          "output_type": "execute_result",
          "data": {
            "text/plain": [
              "<Axes: title={'center': 'Confusion Matrix'}, xlabel='Predicted label', ylabel='True label'>"
            ]
          },
          "metadata": {},
          "execution_count": 82
        },
        {
          "output_type": "display_data",
          "data": {
            "text/plain": [
              "<Figure size 640x480 with 2 Axes>"
            ],
            "image/png": "[encoded data removed]"
          },
          "metadata": {}
        }
      ]
    },
    {
      "cell_type": "code",
      "source": [
        "accuracy_score(Y_undersampled_test, pred)"
      ],
      "metadata": {
        "execution": {
          "iopub.status.busy": "2023-07-11T14:27:54.068176Z",
          "iopub.execute_input": "2023-07-11T14:27:54.070513Z",
          "iopub.status.idle": "2023-07-11T14:27:54.084473Z",
          "shell.execute_reply.started": "2023-07-11T14:27:54.070438Z",
          "shell.execute_reply": "2023-07-11T14:27:54.083402Z"
        },
        "trusted": true,
        "id": "CJKw5Aj846F-",
        "outputId": "b9af54b2-0386-470c-ff87-1abbe9106977",
        "colab": {
          "base_uri": "https://localhost:8080/"
        }
      },
      "execution_count": null,
      "outputs": [
        {
          "output_type": "execute_result",
          "data": {
            "text/plain": [
              "0.9358108108108109"
            ]
          },
          "metadata": {},
          "execution_count": 83
        }
      ]
    },
    {
      "cell_type": "code",
      "source": [
        "print (classification_report(Y_undersampled_test, pred))"
      ],
      "metadata": {
        "execution": {
          "iopub.status.busy": "2023-07-11T14:27:54.088487Z",
          "iopub.execute_input": "2023-07-11T14:27:54.091790Z",
          "iopub.status.idle": "2023-07-11T14:27:54.107355Z",
          "shell.execute_reply.started": "2023-07-11T14:27:54.091716Z",
          "shell.execute_reply": "2023-07-11T14:27:54.106133Z"
        },
        "trusted": true,
        "id": "0Ht1LMZt46F_",
        "outputId": "72be0235-ad9c-40a2-ad38-8d776fadcdcc",
        "colab": {
          "base_uri": "https://localhost:8080/"
        }
      },
      "execution_count": null,
      "outputs": [
        {
          "output_type": "stream",
          "name": "stdout",
          "text": [
            "              precision    recall  f1-score   support\n",
            "\n",
            "           0       0.92      0.95      0.93       143\n",
            "           1       0.95      0.92      0.94       153\n",
            "\n",
            "    accuracy                           0.94       296\n",
            "   macro avg       0.94      0.94      0.94       296\n",
            "weighted avg       0.94      0.94      0.94       296\n",
            "\n"
          ]
        }
      ]
    },
    {
      "cell_type": "markdown",
      "source": [
        "### Using the \"new\" classifier for the original data test"
      ],
      "metadata": {
        "id": "w1Mltv4J46GD"
      }
    },
    {
      "cell_type": "code",
      "source": [
        "lr_undersampled = LogisticRegression()\n",
        "cmat, pred = RunModel(lr_undersampled, X_undersampled_train, Y_undersampled_train, X_test, y_test)\n",
        "PrintStats(cmat, y_test, pred)"
      ],
      "metadata": {
        "execution": {
          "iopub.status.busy": "2023-07-11T14:27:54.112109Z",
          "iopub.execute_input": "2023-07-11T14:27:54.114538Z",
          "iopub.status.idle": "2023-07-11T14:27:54.243626Z",
          "shell.execute_reply.started": "2023-07-11T14:27:54.114444Z",
          "shell.execute_reply": "2023-07-11T14:27:54.242639Z"
        },
        "trusted": true,
        "id": "L2hJO0ro46GE"
      },
      "execution_count": null,
      "outputs": []
    },
    {
      "cell_type": "code",
      "source": [
        "skplt.metrics.plot_confusion_matrix(y_test, pred)"
      ],
      "metadata": {
        "execution": {
          "iopub.status.busy": "2023-07-11T14:27:54.248612Z",
          "iopub.execute_input": "2023-07-11T14:27:54.251226Z",
          "iopub.status.idle": "2023-07-11T14:27:54.613718Z",
          "shell.execute_reply.started": "2023-07-11T14:27:54.251143Z",
          "shell.execute_reply": "2023-07-11T14:27:54.612955Z"
        },
        "trusted": true,
        "id": "YEnfyFbI46GU",
        "outputId": "faf99693-cb11-4bbf-a14a-4bc1a7e633fb",
        "colab": {
          "base_uri": "https://localhost:8080/",
          "height": 489
        }
      },
      "execution_count": null,
      "outputs": [
        {
          "output_type": "execute_result",
          "data": {
            "text/plain": [
              "<Axes: title={'center': 'Confusion Matrix'}, xlabel='Predicted label', ylabel='True label'>"
            ]
          },
          "metadata": {},
          "execution_count": 86
        },
        {
          "output_type": "display_data",
          "data": {
            "text/plain": [
              "<Figure size 640x480 with 2 Axes>"
            ],
            "image/png": "[encoded data removed]"
          },
          "metadata": {}
        }
      ]
    },
    {
      "cell_type": "code",
      "source": [
        "accuracy_score(y_test, pred)"
      ],
      "metadata": {
        "execution": {
          "iopub.status.busy": "2023-07-11T14:27:54.618014Z",
          "iopub.execute_input": "2023-07-11T14:27:54.620198Z",
          "iopub.status.idle": "2023-07-11T14:27:54.637490Z",
          "shell.execute_reply.started": "2023-07-11T14:27:54.620132Z",
          "shell.execute_reply": "2023-07-11T14:27:54.636687Z"
        },
        "trusted": true,
        "id": "gAX7Utfh46Gd",
        "outputId": "8b45ba87-35c9-4199-e0c3-a960ec7fd940",
        "colab": {
          "base_uri": "https://localhost:8080/"
        }
      },
      "execution_count": null,
      "outputs": [
        {
          "output_type": "execute_result",
          "data": {
            "text/plain": [
              "0.9668668000889482"
            ]
          },
          "metadata": {},
          "execution_count": 87
        }
      ]
    },
    {
      "cell_type": "code",
      "source": [
        "print (classification_report(y_test, pred))"
      ],
      "metadata": {
        "execution": {
          "iopub.status.busy": "2023-07-11T14:27:54.642339Z",
          "iopub.execute_input": "2023-07-11T14:27:54.644684Z",
          "iopub.status.idle": "2023-07-11T14:27:54.780218Z",
          "shell.execute_reply.started": "2023-07-11T14:27:54.644613Z",
          "shell.execute_reply": "2023-07-11T14:27:54.779326Z"
        },
        "trusted": true,
        "id": "HR9aWiHQ46Gf",
        "outputId": "b902cdbd-7b1c-4a6c-809d-cf5f399fc03e",
        "colab": {
          "base_uri": "https://localhost:8080/"
        }
      },
      "execution_count": null,
      "outputs": [
        {
          "output_type": "stream",
          "name": "stdout",
          "text": [
            "              precision    recall  f1-score   support\n",
            "\n",
            "           0       1.00      0.97      0.98     85308\n",
            "           1       0.04      0.91      0.08       135\n",
            "\n",
            "    accuracy                           0.97     85443\n",
            "   macro avg       0.52      0.94      0.53     85443\n",
            "weighted avg       1.00      0.97      0.98     85443\n",
            "\n"
          ]
        }
      ]
    },
    {
      "cell_type": "markdown",
      "source": [
        "### GridSearchCV - Parameter optimization"
      ],
      "metadata": {
        "id": "ch0XqKRp46Gg"
      }
    },
    {
      "cell_type": "code",
      "source": [
        "from sklearn.model_selection import GridSearchCV\n",
        "\n",
        "param_grid = {\"C\": [1,2,3,4,5,6,7,8,9,10],\n",
        "              \"penalty\": ['l1','l2']} #Parameters\n",
        "\n",
        "grid_search = GridSearchCV(lr, param_grid, scoring=\"precision\") #score\n",
        "grid_search.fit(y_test, pred)\n",
        "\n",
        "lr = grid_search.best_estimator_\n",
        "grid_search.best_params_, grid_search.best_score_"
      ],
      "metadata": {
        "execution": {
          "iopub.status.busy": "2023-07-11T14:27:54.784909Z",
          "iopub.execute_input": "2023-07-11T14:27:54.787232Z",
          "iopub.status.idle": "2023-07-11T14:28:02.858749Z",
          "shell.execute_reply.started": "2023-07-11T14:27:54.787158Z",
          "shell.execute_reply": "2023-07-11T14:28:02.857928Z"
        },
        "trusted": true,
        "id": "rG4kW9BX46Gi",
        "outputId": "f9c18f96-d7dc-4424-eada-029a2060f2f0",
        "colab": {
          "base_uri": "https://localhost:8080/"
        }
      },
      "execution_count": null,
      "outputs": [
        {
          "output_type": "execute_result",
          "data": {
            "text/plain": [
              "({'C': 1, 'penalty': 'l2'}, 0.9128655452493535)"
            ]
          },
          "metadata": {},
          "execution_count": 89
        }
      ]
    },
    {
      "cell_type": "markdown",
      "source": [
        "### Application of the Model with balanced data and parameter optimization"
      ],
      "metadata": {
        "id": "eByevL5b46Gk"
      }
    },
    {
      "cell_type": "code",
      "source": [
        "lr_undersampled = LogisticRegression(C=1, penalty='l2')\n",
        "cmat, pred = RunModel(lr_undersampled, X_undersampled_train, Y_undersampled_train, X_undersampled_test, Y_undersampled_test)\n",
        "PrintStats(cmat, Y_undersampled_test, pred)"
      ],
      "metadata": {
        "execution": {
          "iopub.status.busy": "2023-07-11T14:28:02.865747Z",
          "iopub.execute_input": "2023-07-11T14:28:02.868195Z",
          "iopub.status.idle": "2023-07-11T14:28:02.909481Z",
          "shell.execute_reply.started": "2023-07-11T14:28:02.868123Z",
          "shell.execute_reply": "2023-07-11T14:28:02.908684Z"
        },
        "trusted": true,
        "id": "zCbriCH346Gl"
      },
      "execution_count": null,
      "outputs": []
    },
    {
      "cell_type": "code",
      "source": [
        "skplt.metrics.plot_confusion_matrix(Y_undersampled_test, pred)"
      ],
      "metadata": {
        "execution": {
          "iopub.status.busy": "2023-07-11T14:28:02.914200Z",
          "iopub.execute_input": "2023-07-11T14:28:02.916546Z",
          "iopub.status.idle": "2023-07-11T14:28:03.106085Z",
          "shell.execute_reply.started": "2023-07-11T14:28:02.916459Z",
          "shell.execute_reply": "2023-07-11T14:28:03.105189Z"
        },
        "trusted": true,
        "id": "MSc4RJgG46Gm",
        "outputId": "9c576456-d521-4e56-d054-6a933e1d71b1",
        "colab": {
          "base_uri": "https://localhost:8080/",
          "height": 489
        }
      },
      "execution_count": null,
      "outputs": [
        {
          "output_type": "execute_result",
          "data": {
            "text/plain": [
              "<Axes: title={'center': 'Confusion Matrix'}, xlabel='Predicted label', ylabel='True label'>"
            ]
          },
          "metadata": {},
          "execution_count": 91
        },
        {
          "output_type": "display_data",
          "data": {
            "text/plain": [
              "<Figure size 640x480 with 2 Axes>"
            ],
            "image/png": "[encoded data removed]"
          },
          "metadata": {}
        }
      ]
    },
    {
      "cell_type": "code",
      "source": [
        "accuracy_score(Y_undersampled_test, pred)"
      ],
      "metadata": {
        "execution": {
          "iopub.status.busy": "2023-07-11T14:28:03.110445Z",
          "iopub.execute_input": "2023-07-11T14:28:03.112581Z",
          "iopub.status.idle": "2023-07-11T14:28:03.123113Z",
          "shell.execute_reply.started": "2023-07-11T14:28:03.112498Z",
          "shell.execute_reply": "2023-07-11T14:28:03.122208Z"
        },
        "trusted": true,
        "id": "FK6z2qeC46Gp",
        "outputId": "96dac3be-6512-477a-b80a-ac46f406391e",
        "colab": {
          "base_uri": "https://localhost:8080/"
        }
      },
      "execution_count": null,
      "outputs": [
        {
          "output_type": "execute_result",
          "data": {
            "text/plain": [
              "0.9358108108108109"
            ]
          },
          "metadata": {},
          "execution_count": 92
        }
      ]
    },
    {
      "cell_type": "code",
      "source": [
        "print (classification_report(Y_undersampled_test, pred))"
      ],
      "metadata": {
        "execution": {
          "iopub.status.busy": "2023-07-11T14:28:03.127851Z",
          "iopub.execute_input": "2023-07-11T14:28:03.130286Z",
          "iopub.status.idle": "2023-07-11T14:28:03.145584Z",
          "shell.execute_reply.started": "2023-07-11T14:28:03.130223Z",
          "shell.execute_reply": "2023-07-11T14:28:03.144686Z"
        },
        "trusted": true,
        "id": "W5yHkxoe46Gr",
        "outputId": "0e6e86f5-0b73-4a0d-c570-121b5112d873",
        "colab": {
          "base_uri": "https://localhost:8080/"
        }
      },
      "execution_count": null,
      "outputs": [
        {
          "output_type": "stream",
          "name": "stdout",
          "text": [
            "              precision    recall  f1-score   support\n",
            "\n",
            "           0       0.92      0.95      0.93       143\n",
            "           1       0.95      0.92      0.94       153\n",
            "\n",
            "    accuracy                           0.94       296\n",
            "   macro avg       0.94      0.94      0.94       296\n",
            "weighted avg       0.94      0.94      0.94       296\n",
            "\n"
          ]
        }
      ]
    },
    {
      "cell_type": "markdown",
      "source": [
        "### Application of the Model to the original data test"
      ],
      "metadata": {
        "id": "Z-Y1zuY346Gs"
      }
    },
    {
      "cell_type": "code",
      "source": [
        "lr = LogisticRegression(C=1, penalty='l2')\n",
        "cmat, pred = RunModel(lr, X_undersampled_train, Y_undersampled_train, X_test, y_test)\n",
        "PrintStats(cmat, y_test, pred)"
      ],
      "metadata": {
        "execution": {
          "iopub.status.busy": "2023-07-11T14:28:03.150362Z",
          "iopub.execute_input": "2023-07-11T14:28:03.152374Z",
          "iopub.status.idle": "2023-07-11T14:28:03.282805Z",
          "shell.execute_reply.started": "2023-07-11T14:28:03.152315Z",
          "shell.execute_reply": "2023-07-11T14:28:03.281929Z"
        },
        "trusted": true,
        "id": "GB7Wy_1k46Gu"
      },
      "execution_count": null,
      "outputs": []
    },
    {
      "cell_type": "code",
      "source": [
        "skplt.metrics.plot_confusion_matrix(y_test, pred)"
      ],
      "metadata": {
        "execution": {
          "iopub.status.busy": "2023-07-11T14:28:03.287421Z",
          "iopub.execute_input": "2023-07-11T14:28:03.289546Z",
          "iopub.status.idle": "2023-07-11T14:28:03.649508Z",
          "shell.execute_reply.started": "2023-07-11T14:28:03.289467Z",
          "shell.execute_reply": "2023-07-11T14:28:03.648676Z"
        },
        "trusted": true,
        "id": "WXrkxFSw46Gw",
        "outputId": "d2a3af1e-0ff3-4487-df39-fd883648a47e",
        "colab": {
          "base_uri": "https://localhost:8080/",
          "height": 489
        }
      },
      "execution_count": null,
      "outputs": [
        {
          "output_type": "execute_result",
          "data": {
            "text/plain": [
              "<Axes: title={'center': 'Confusion Matrix'}, xlabel='Predicted label', ylabel='True label'>"
            ]
          },
          "metadata": {},
          "execution_count": 95
        },
        {
          "output_type": "display_data",
          "data": {
            "text/plain": [
              "<Figure size 640x480 with 2 Axes>"
            ],
            "image/png": "[encoded data removed]"
          },
          "metadata": {}
        }
      ]
    },
    {
      "cell_type": "code",
      "source": [
        "accuracy_score(y_test, pred)"
      ],
      "metadata": {
        "execution": {
          "iopub.status.busy": "2023-07-11T14:28:03.654020Z",
          "iopub.execute_input": "2023-07-11T14:28:03.656093Z",
          "iopub.status.idle": "2023-07-11T14:28:03.674170Z",
          "shell.execute_reply.started": "2023-07-11T14:28:03.656019Z",
          "shell.execute_reply": "2023-07-11T14:28:03.673059Z"
        },
        "trusted": true,
        "id": "yfpTZBQl46Gy",
        "outputId": "e8883053-6882-403c-e7e4-097b324f2bf8",
        "colab": {
          "base_uri": "https://localhost:8080/"
        }
      },
      "execution_count": null,
      "outputs": [
        {
          "output_type": "execute_result",
          "data": {
            "text/plain": [
              "0.9668668000889482"
            ]
          },
          "metadata": {},
          "execution_count": 96
        }
      ]
    },
    {
      "cell_type": "code",
      "source": [
        "print (classification_report(y_test, pred))"
      ],
      "metadata": {
        "execution": {
          "iopub.status.busy": "2023-07-11T14:28:03.678162Z",
          "iopub.execute_input": "2023-07-11T14:28:03.680182Z",
          "iopub.status.idle": "2023-07-11T14:28:03.813235Z",
          "shell.execute_reply.started": "2023-07-11T14:28:03.680125Z",
          "shell.execute_reply": "2023-07-11T14:28:03.812422Z"
        },
        "trusted": true,
        "id": "EPuikizX46Gz",
        "outputId": "8ffbda02-77fb-4553-939c-97000626793d",
        "colab": {
          "base_uri": "https://localhost:8080/"
        }
      },
      "execution_count": null,
      "outputs": [
        {
          "output_type": "stream",
          "name": "stdout",
          "text": [
            "              precision    recall  f1-score   support\n",
            "\n",
            "           0       1.00      0.97      0.98     85308\n",
            "           1       0.04      0.91      0.08       135\n",
            "\n",
            "    accuracy                           0.97     85443\n",
            "   macro avg       0.52      0.94      0.53     85443\n",
            "weighted avg       1.00      0.97      0.98     85443\n",
            "\n"
          ]
        }
      ]
    },
    {
      "cell_type": "markdown",
      "source": [
        "### Measurement of classifier performance through the ROC and AUC curve"
      ],
      "metadata": {
        "id": "KNVJdXok46G1"
      }
    },
    {
      "cell_type": "code",
      "source": [
        "from sklearn import metrics"
      ],
      "metadata": {
        "execution": {
          "iopub.status.busy": "2023-07-11T14:28:03.817474Z",
          "iopub.execute_input": "2023-07-11T14:28:03.819656Z",
          "iopub.status.idle": "2023-07-11T14:28:03.825568Z",
          "shell.execute_reply.started": "2023-07-11T14:28:03.819592Z",
          "shell.execute_reply": "2023-07-11T14:28:03.824625Z"
        },
        "trusted": true,
        "id": "reuuX5iL46H0"
      },
      "execution_count": null,
      "outputs": []
    },
    {
      "cell_type": "code",
      "source": [
        "clf = LogisticRegression(C=1, penalty='l2')\n",
        "clf.fit(X_undersampled_train, Y_undersampled_train)\n",
        "y_pred = clf.predict(X_test)\n",
        "\n",
        "y_pred_probability = clf.predict_proba(X_test)[::,1]\n",
        "fpr, tpr, _ = metrics.roc_curve(y_test, y_pred_probability)\n",
        "auc = metrics.roc_auc_score(y_test, pred)\n",
        "plt.plot(fpr,tpr,label=\"LogisticRegression, auc=\"+str(auc))\n",
        "plt.legend(loc=4)\n",
        "plt.show()"
      ],
      "metadata": {
        "execution": {
          "iopub.status.busy": "2023-07-11T14:28:03.830018Z",
          "iopub.execute_input": "2023-07-11T14:28:03.832338Z",
          "iopub.status.idle": "2023-07-11T14:28:04.091625Z",
          "shell.execute_reply.started": "2023-07-11T14:28:03.832282Z",
          "shell.execute_reply": "2023-07-11T14:28:04.090718Z"
        },
        "trusted": true,
        "id": "UTxfKu7346H1",
        "outputId": "9641a072-dd3c-4c5c-bc8a-33b021b0833f",
        "colab": {
          "base_uri": "https://localhost:8080/",
          "height": 430
        }
      },
      "execution_count": null,
      "outputs": [
        {
          "output_type": "display_data",
          "data": {
            "text/plain": [
              "<Figure size 640x480 with 1 Axes>"
            ],
            "image/png": "[encoded data removed]"
          },
          "metadata": {}
        }
      ]
    },
    {
      "cell_type": "markdown",
      "source": [
        "The classifier had a good result, with AUC of 0.94!"
      ],
      "metadata": {
        "id": "sBMbKpYp46H2"
      }
    },
    {
      "cell_type": "markdown",
      "source": [
        "### Conclusion"
      ],
      "metadata": {
        "id": "l5BCO7f246H2"
      }
    },
    {
      "cell_type": "markdown",
      "source": [
        "We reached a very satisfactory number in detecting fraud transactions in relation to the initial model, rising from 55% to 91% of correctly identified transactions. In return, the detection of correctly identified normal transactions decreased from 99% to 97%.\n",
        "\n",
        "Remember that we need to determine where this exchange is worthwhile. Generally, the costs of losing a fraudulent transaction are often greater than mistakenly classifying a good transaction as fraud. One of the challenges is to find the balance in training your model and proceed accordingly.\n",
        "\n",
        "As a way to further improve the performance of the model, there are several ways to explore the input variables, performing some techniques of \"Data Pre-Processing\" and \"Feature Engineering\"."
      ],
      "metadata": {
        "id": "J-iD4-AI46H3"
      }
    },
    {
      "cell_type": "markdown",
      "source": [
        "![image.png](attachment:image.png)"
      ],
      "metadata": {
        "id": "uYMWqzcy46H4"
      }
    }
  ]
}